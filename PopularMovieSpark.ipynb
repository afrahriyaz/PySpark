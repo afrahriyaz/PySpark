{
  "nbformat": 4,
  "nbformat_minor": 0,
  "metadata": {
    "colab": {
      "provenance": [],
      "authorship_tag": "ABX9TyN2fg14Nvu9uRmq2ZF/ZrnM",
      "include_colab_link": true
    },
    "kernelspec": {
      "name": "python3",
      "display_name": "Python 3"
    },
    "language_info": {
      "name": "python"
    }
  },
  "cells": [
    {
      "cell_type": "markdown",
      "metadata": {
        "id": "view-in-github",
        "colab_type": "text"
      },
      "source": [
        "<a href=\"https://colab.research.google.com/github/afrahriyaz/PySpark/blob/main/PopularMovieSpark.ipynb\" target=\"_parent\"><img src=\"https://colab.research.google.com/assets/colab-badge.svg\" alt=\"Open In Colab\"/></a>"
      ]
    },
    {
      "cell_type": "markdown",
      "source": [
        "#Finding most popular movies from 100k movie lens dataset"
      ],
      "metadata": {
        "id": "TTW6QPDp2j5_"
      }
    },
    {
      "cell_type": "code",
      "execution_count": 18,
      "metadata": {
        "id": "4m5Lq9tE0oNs"
      },
      "outputs": [],
      "source": [
        "from pyspark.sql import SparkSession\n",
        "from pyspark.sql import Row\n",
        "from pyspark.sql import functions"
      ]
    },
    {
      "cell_type": "code",
      "source": [
        "def loadMovieNames():\n",
        "  movieNames = {}\n",
        "  with open(\"/u.item\", encoding='latin-1') as f:\n",
        "    for line in f:\n",
        "      fields = line.split('|')\n",
        "      movieNames[int(fields[0])] = fields[1]\n",
        "  return movieNames"
      ],
      "metadata": {
        "id": "R3goFzh219LO"
      },
      "execution_count": 19,
      "outputs": []
    },
    {
      "cell_type": "code",
      "source": [
        "def parseInput(line):\n",
        "  fields = line.split()\n",
        "  return Row(userId=int(fields[0]), movieId=int(fields[1]), rating=float(fields[2]), timestamp=int(fields[3]))"
      ],
      "metadata": {
        "id": "r8y9_B5A3OSU"
      },
      "execution_count": 20,
      "outputs": []
    },
    {
      "cell_type": "code",
      "source": [
        "if __name__ == \"__main__\":\n",
        "  #Creating a spark session\n",
        "  spark = SparkSession.builder.appName(\"PopularMovies\").getOrCreate()\n",
        "  sc = spark.sparkContext\n",
        "\n",
        "  #Get raw data\n",
        "  lines = sc.textFile(\"/u.data\")\n",
        "\n",
        "  #Load dictionary (movieId, movieName) into movieNames\n",
        "  movieNames = loadMovieNames()\n",
        "\n",
        "  #Convert the raw data into RDD of Row objects\n",
        "  movies = lines.map(parseInput)\n",
        "\n",
        "  #Convert that to Dataframe\n",
        "  movieDataset = spark.createDataFrame(movies)\n",
        "\n",
        "  #Compute avg rating for each movie\n",
        "  averageRatings = movieDataset.groupBy(\"movieId\").avg(\"rating\")\n",
        "\n",
        "  #Counting number of people who rated each movie\n",
        "  counts = movieDataset.groupBy(\"movieId\").count()\n",
        "  averageAndCounts = averageRatings.join(counts, \"movieId\")\n",
        "  averageAndCounts.show()\n",
        "\n",
        "  #Filter out movies with less than 100 ratings\n",
        "  popularMovies = averageAndCounts.filter(\"count > 100\").orderBy(\"avg(rating)\", ascending=False).take(10)\n",
        "  for movie in popularMovies:\n",
        "    print(movieNames[movie[0]], movie[1], movie[2])\n",
        "\n",
        "  spark.stop()"
      ],
      "metadata": {
        "colab": {
          "base_uri": "https://localhost:8080/"
        },
        "id": "LAkm34Xg47hu",
        "outputId": "5654a0d0-b56c-4cd9-a1f4-59bd52593c22"
      },
      "execution_count": 34,
      "outputs": [
        {
          "output_type": "stream",
          "name": "stdout",
          "text": [
            "+-------+------------------+-----+\n",
            "|movieId|       avg(rating)|count|\n",
            "+-------+------------------+-----+\n",
            "|    474| 4.252577319587629|  194|\n",
            "|     29|2.6666666666666665|  114|\n",
            "|     26| 3.452054794520548|   73|\n",
            "|    964|3.3333333333333335|    9|\n",
            "|     65|3.5391304347826087|  115|\n",
            "|    191| 4.163043478260869|  276|\n",
            "|   1224|2.6666666666666665|   12|\n",
            "|    558|3.6714285714285713|   70|\n",
            "|   1010|              3.25|   44|\n",
            "|    418|3.5813953488372094|  129|\n",
            "|   1277|3.4210526315789473|   19|\n",
            "|   1258|2.5217391304347827|   23|\n",
            "|    541| 2.877551020408163|   49|\n",
            "|   1360|               1.5|    2|\n",
            "|    222|  3.66027397260274|  365|\n",
            "|    938|              2.88|   25|\n",
            "|    293| 3.802721088435374|  147|\n",
            "|    270|3.5955882352941178|  136|\n",
            "|   1127| 2.909090909090909|   11|\n",
            "|   1371|               1.5|    2|\n",
            "+-------+------------------+-----+\n",
            "only showing top 20 rows\n",
            "\n",
            "Close Shave, A (1995) 4.491071428571429 112\n",
            "Schindler's List (1993) 4.466442953020135 298\n",
            "Wrong Trousers, The (1993) 4.466101694915254 118\n",
            "Casablanca (1942) 4.45679012345679 243\n",
            "Shawshank Redemption, The (1994) 4.445229681978798 283\n",
            "Rear Window (1954) 4.3875598086124405 209\n",
            "Usual Suspects, The (1995) 4.385767790262173 267\n",
            "Star Wars (1977) 4.3584905660377355 583\n",
            "12 Angry Men (1957) 4.344 125\n",
            "Citizen Kane (1941) 4.292929292929293 198\n"
          ]
        }
      ]
    }
  ]
}